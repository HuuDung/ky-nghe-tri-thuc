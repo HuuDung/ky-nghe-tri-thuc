{
 "cells": [
  {
   "cell_type": "markdown",
   "metadata": {
    "collapsed": true
   },
   "source": [
    "# Matrix Factorization"
   ]
  },
  {
   "cell_type": "code",
   "execution_count": 38,
   "metadata": {},
   "outputs": [
    {
     "name": "stdout",
     "output_type": "stream",
     "text": [
      "iter = 1000 , loss = 0.508463130259286 , RMSE train = 0.7957566106575795\n"
     ]
    },
    {
     "data": {
      "text/plain": [
       "[(1, 2.216147590028831)]"
      ]
     },
     "execution_count": 38,
     "metadata": {},
     "output_type": "execute_result"
    }
   ],
   "source": [
    "import pandas as pd \n",
    "import numpy as np\n",
    "from sklearn.metrics.pairwise import cosine_similarity\n",
    "from scipy import sparse \n",
    "\n",
    "class MF(object):\n",
    "    \"\"\"docstring for CF\"\"\"\n",
    "    def __init__(self, Y_data, K, lam = 0.1, Xinit = None, Winit = None, \n",
    "                 learning_rate = 0.5, max_iter = 1000, print_every = 100, user_based = 1):\n",
    "        self.Y_raw_data = Y_data\n",
    "        self.K = K\n",
    "        self.lam = lam\n",
    "        self.learning_rate = learning_rate\n",
    "        self.max_iter = max_iter\n",
    "        self.print_every = print_every\n",
    "        self.user_based = user_based\n",
    "        # number of users and items. Remember to add 1 since id starts from 0\n",
    "        self.n_users = int(np.max(Y_data[:, 0])) + 1 \n",
    "        self.n_items = int(np.max(Y_data[:, 1])) + 1\n",
    "        \n",
    "        if Xinit is None: \n",
    "            self.X = np.random.randn(self.n_items, K)\n",
    "        else:\n",
    "            self.X = Xinit \n",
    "        \n",
    "        if Winit is None: \n",
    "            self.W = np.random.randn(K, self.n_users)\n",
    "        else: \n",
    "            self.W = Winit\n",
    "            \n",
    "        #self.all_users = self.Y_data[:,0] # all users (may be duplicated)\n",
    "        self.n_ratings = Y_data.shape[0]\n",
    "        # normalized data\n",
    "        self.Y_data_n = self.Y_raw_data.copy()\n",
    "\n",
    "\n",
    "    def normalize_Y(self):\n",
    "        if self.user_based:\n",
    "            user_col = 0\n",
    "            item_col = 1\n",
    "            n_objects = self.n_users\n",
    "        else:\n",
    "            user_col = 1\n",
    "            item_col = 0 \n",
    "            n_objects = self.n_items\n",
    "\n",
    "        users = self.Y_raw_data[:, user_col] \n",
    "        self.mu = np.zeros((n_objects,))\n",
    "        for n in range(n_objects):\n",
    "            # row indices of rating done by user n\n",
    "            # since indices need to be integers, we need to convert\n",
    "            ids = np.where(users == n)[0].astype(np.int32)\n",
    "            # indices of all ratings associated with user n\n",
    "            item_ids = self.Y_data_n[ids, item_col] \n",
    "            # and the corresponding ratings \n",
    "            ratings = self.Y_data_n[ids, 2]\n",
    "            # take mean\n",
    "            m = np.mean(ratings) \n",
    "            if np.isnan(m):\n",
    "                m = 0 # to avoid empty array and nan value\n",
    "            self.mu[n] = m\n",
    "            # normalize\n",
    "            self.Y_data_n[ids, 2] = ratings - self.mu[n]\n",
    "    \n",
    "    def loss(self):\n",
    "        L = 0 \n",
    "        for i in range(self.Y_data_n.shape[0]):\n",
    "            # user, item, rating\n",
    "            n, m, rate = int(self.Y_data_n[i, 0]), int(self.Y_data_n[i, 1]), self.Y_data_n[i, 2]\n",
    "            L += 0.5*(rate - self.X[m, :].dot(self.W[:, n]))**2\n",
    "            \n",
    "        # regularization, don't ever forget this \n",
    "        L /= self.n_ratings\n",
    "        L += 0.5*self.lam*(np.linalg.norm(self.X, 'fro') + np.linalg.norm(self.W, 'fro'))\n",
    "        return L \n",
    "\n",
    "    \n",
    "    def get_items_rated_by_user(self, user_id):\n",
    "        \"\"\"\n",
    "        get all items which are rated by user n, and the corresponding ratings\n",
    "        \"\"\"\n",
    "        # y = self.Y_data_n[:,0] # all users (may be duplicated)\n",
    "        # item indices rated by user_id\n",
    "        # we need to +1 to user_id since in the rate_matrix, id starts from 1 \n",
    "        # while index in python starts from 0\n",
    "        ids = np.where(self.Y_data_n[:,0] == user_id)[0] \n",
    "        item_ids = self.Y_data_n[ids, 1].astype(np.int32) # index starts from 0 \n",
    "        ratings = self.Y_data_n[ids, 2]\n",
    "        return (item_ids, ratings)\n",
    "        \n",
    "        \n",
    "    def get_users_who_rate_item(self, item_id):\n",
    "        \"\"\"\n",
    "        get all users who rated item m and get the corresponding ratings\n",
    "        \"\"\"\n",
    "        ids = np.where(self.Y_data_n[:,1] == item_id)[0] \n",
    "        user_ids = self.Y_data_n[ids, 0].astype(np.int32)\n",
    "        ratings = self.Y_data_n[ids, 2]\n",
    "        return (user_ids, ratings)\n",
    "        \n",
    "    def updateX(self):\n",
    "        for m in range(self.n_items):\n",
    "            user_ids, ratings = self.get_users_who_rate_item(m)\n",
    "            Wm = self.W[:, user_ids]\n",
    "            grad_xm = -(ratings - self.X[m, :].dot(Wm)).dot(Wm.T)/self.n_ratings + \\\n",
    "                                               self.lam*self.X[m, :]\n",
    "            self.X[m, :] -= self.learning_rate*grad_xm.reshape((self.K,))\n",
    "\n",
    "    \n",
    "    def updateW(self):\n",
    "        for n in range(self.n_users):\n",
    "            item_ids, ratings = self.get_items_rated_by_user(n)\n",
    "            Xn = self.X[item_ids, :]\n",
    "            grad_wn = -Xn.T.dot(ratings - Xn.dot(self.W[:, n]))/self.n_ratings + \\\n",
    "                        self.lam*self.W[:, n]\n",
    "            self.W[:, n] -= self.learning_rate*grad_wn.reshape((self.K,))\n",
    "    \n",
    "    def fit(self):\n",
    "        self.normalize_Y()\n",
    "        for it in range(self.max_iter):\n",
    "            self.updateX()\n",
    "            self.updateW()\n",
    "            if (it + 1) % self.print_every == 0:\n",
    "                rmse_train = self.evaluate_RMSE(self.Y_raw_data)\n",
    "                print ('iter =', it + 1, ', loss =', self.loss(), ', RMSE train =', rmse_train)\n",
    "    \n",
    "    \n",
    "    def pred(self, u, i):\n",
    "        \"\"\" \n",
    "        predict the rating of user u for item i \n",
    "        if you need the un\n",
    "        \"\"\"\n",
    "        u = int(u)\n",
    "        i = int(i)\n",
    "        \n",
    "        if self.user_based:\n",
    "            bias = self.mu[u]\n",
    "        else: \n",
    "            bias = self.mu[i]\n",
    "        pred = self.X[i, :].dot(self.W[:, u]) + bias \n",
    "        if pred < 1:\n",
    "            return 1 \n",
    "        if pred > 5: \n",
    "            return 5 \n",
    "        return pred \n",
    "        \n",
    "    \n",
    "    def pred_for_user(self, user_id):\n",
    "        ids = np.where(self.Y_data_n[:, 0] == user_id)[0]\n",
    "        items_rated_by_u = self.Y_data_n[ids, 1].tolist()              \n",
    "        \n",
    "        y_pred = self.X.dot(self.W[:, user_id]) + self.mu[user_id]\n",
    "        predicted_ratings= []\n",
    "        for i in range(self.n_items):\n",
    "            if i not in items_rated_by_u:\n",
    "                predicted_ratings.append((i, y_pred[i]))\n",
    "        \n",
    "        return predicted_ratings\n",
    "    \n",
    "    def evaluate_RMSE(self, rate_test):\n",
    "        n_tests = rate_test.shape[0]\n",
    "        SE = 0 # squared error\n",
    "        for n in range(n_tests):\n",
    "            pred = self.pred(rate_test[n, 0], rate_test[n, 1])\n",
    "            SE += (pred - rate_test[n, 2])**2 \n",
    "\n",
    "        RMSE = np.sqrt(SE/n_tests)\n",
    "        return RMSE\n",
    "        \n",
    "r_cols = ['user_id', 'item_id', 'rating']\n",
    "ratings = pd.read_csv('ex.dat', sep = ' ', names = r_cols, encoding='latin-1')\n",
    "Y_data = ratings.values\n",
    "\n",
    "\n",
    "rs = MF(Y_data, K = 2, max_iter = 1000, print_every = 1000)\n",
    "\n",
    "rs.fit()\n",
    "rs.pred(6, 1)\n",
    "rs.pred_for_user(2)"
   ]
  },
  {
   "cell_type": "code",
   "execution_count": 2,
   "metadata": {},
   "outputs": [
    {
     "name": "stdout",
     "output_type": "stream",
     "text": [
      "[[4.16628879 4.01679173 1.80739216 0.2216641  1.71831781 1.43298887\n",
      "  2.37172342]\n",
      " [3.65911475 3.28635726 2.21623444 0.81559029 2.14422556 1.47954007\n",
      "  2.93825388]\n",
      " [3.99831474 3.85487775 1.87312334 0.47687437 1.87786482 1.42253559\n",
      "  2.46563305]\n",
      " [2.44208656 1.70075899 3.05171113 2.36303964 3.20487695 1.53718673\n",
      "  4.10187496]\n",
      " [2.26009497 1.32027645 3.30151439 2.48959449 3.33035137 1.59217099\n",
      "  4.44384398]]\n"
     ]
    }
   ],
   "source": [
    "print (rs.X.dot(rs.W) + rs.mu)"
   ]
  },
  {
   "cell_type": "markdown",
   "metadata": {},
   "source": [
    "# Áp dụng lên MovieLens 100k"
   ]
  },
  {
   "cell_type": "code",
   "execution_count": 39,
   "metadata": {},
   "outputs": [],
   "source": [
    "r_cols = ['user_id', 'movie_id', 'rating', 'unix_timestamp']\n",
    "\n",
    "ratings_base = pd.read_csv('ml-100k/ub.base', sep='\\t', names=r_cols, encoding='latin-1')\n",
    "ratings_test = pd.read_csv('ml-100k/ub.test', sep='\\t', names=r_cols, encoding='latin-1')\n",
    "\n",
    "rate_train = ratings_base.values\n",
    "rate_test = ratings_test.values\n",
    "\n",
    "# indices start from 0\n",
    "rate_train[:, :2] -= 1\n",
    "rate_test[:, :2] -= 1"
   ]
  },
  {
   "cell_type": "code",
   "execution_count": 41,
   "metadata": {
    "scrolled": true
   },
   "outputs": [
    {
     "name": "stdout",
     "output_type": "stream",
     "text": [
      "iter = 10 , loss = 5.608456055171417 , RMSE train = 1.2045190502583125\n",
      "iter = 20 , loss = 2.620172123308861 , RMSE train = 1.0381442380147747\n",
      "iter = 30 , loss = 1.3345349557492776 , RMSE train = 1.0296039671410036\n",
      "iter = 40 , loss = 0.7487863430662083 , RMSE train = 1.029228595765795\n",
      "iter = 50 , loss = 0.48035335491037856 , RMSE train = 1.0292139958405766\n",
      "iter = 60 , loss = 0.3572642933185018 , RMSE train = 1.0292140409918502\n",
      "iter = 70 , loss = 0.3008184520435929 , RMSE train = 1.0292142451508761\n",
      "iter = 80 , loss = 0.2749334349176179 , RMSE train = 1.0292143086569905\n",
      "iter = 90 , loss = 0.26306302201137305 , RMSE train = 1.0292143254374069\n",
      "iter = 100 , loss = 0.2576194554003539 , RMSE train = 1.0292143296466596\n",
      "\n",
      "User-based MF, RMSE = 1.0603799058767178\n"
     ]
    }
   ],
   "source": [
    "rs = MF(rate_train, K = 10, lam = .1, print_every = 10, learning_rate = 0.75, max_iter = 100, user_based = 1)\n",
    "rs.fit()\n",
    "# evaluate on test data\n",
    "RMSE = rs.evaluate_RMSE(rate_test)\n",
    "print ('\\nUser-based MF, RMSE =', RMSE)"
   ]
  },
  {
   "cell_type": "code",
   "execution_count": 44,
   "metadata": {},
   "outputs": [
    {
     "name": "stdout",
     "output_type": "stream",
     "text": [
      "iter = 10 , loss = 5.671025954048728 , RMSE train = 1.1832667011013596\n",
      "iter = 20 , loss = 2.634862298100188 , RMSE train = 1.0057441000059497\n",
      "iter = 30 , loss = 1.3319264652442475 , RMSE train = 0.9965683821201389\n",
      "iter = 40 , loss = 0.7384098666674402 , RMSE train = 0.9961887080182692\n",
      "iter = 50 , loss = 0.46641297792079384 , RMSE train = 0.9961789520315569\n",
      "iter = 60 , loss = 0.34168738420448147 , RMSE train = 0.9961802640629733\n",
      "iter = 70 , loss = 0.28449041613013043 , RMSE train = 0.996180744350654\n",
      "iter = 80 , loss = 0.25826075779697444 , RMSE train = 0.9961808660908547\n",
      "iter = 90 , loss = 0.24623223639279657 , RMSE train = 0.9961808950702287\n",
      "iter = 100 , loss = 0.24071614068807604 , RMSE train = 0.9961809018314804\n",
      "\n",
      "Item-based MF, RMSE = 1.0486424594189638\n"
     ]
    }
   ],
   "source": [
    "rs = MF(rate_train, K = 10, lam = .1, print_every = 10, learning_rate = 0.75, max_iter = 100, user_based = 0)\n",
    "rs.fit()\n",
    "# evaluate on test data\n",
    "RMSE = rs.evaluate_RMSE(rate_test)\n",
    "print ('\\nItem-based MF, RMSE =', RMSE)"
   ]
  },
  {
   "cell_type": "code",
   "execution_count": 43,
   "metadata": {},
   "outputs": [
    {
     "name": "stdout",
     "output_type": "stream",
     "text": [
      "iter = 10 , loss = 4.849780587747066 , RMSE train = 1.898039853041211\n",
      "iter = 20 , loss = 4.505330133233762 , RMSE train = 1.880891443514488\n",
      "iter = 30 , loss = 4.201314876559252 , RMSE train = 1.8638775269412833\n",
      "iter = 40 , loss = 3.93143191636852 , RMSE train = 1.8470659652779027\n",
      "iter = 50 , loss = 3.6905819976332874 , RMSE train = 1.8304132879111246\n",
      "iter = 60 , loss = 3.4746005929214925 , RMSE train = 1.8139119455872574\n",
      "iter = 70 , loss = 3.2800571872216637 , RMSE train = 1.7976176040009375\n",
      "iter = 80 , loss = 3.104103548130094 , RMSE train = 1.7816147091227068\n",
      "iter = 90 , loss = 2.944357683106338 , RMSE train = 1.7658886402865426\n",
      "iter = 100 , loss = 2.7988141367812904 , RMSE train = 1.750493767821328\n",
      "\n",
      "Item-based MF, RMSE = 1.8458766402915951\n"
     ]
    }
   ],
   "source": [
    "rs = MF(rate_train, K = 10, lam = 0, print_every = 10, learning_rate = 1, max_iter = 100, user_based = 0)\n",
    "rs.fit()\n",
    "# evaluate on test data\n",
    "RMSE = rs.evaluate_RMSE(rate_test)\n",
    "print ('\\nItem-based MF, RMSE =', RMSE)"
   ]
  },
  {
   "cell_type": "code",
   "execution_count": 55,
   "metadata": {
    "collapsed": true
   },
   "outputs": [],
   "source": [
    "RMSE = rs.evaluate_RMSE(rate_train)"
   ]
  },
  {
   "cell_type": "code",
   "execution_count": 56,
   "metadata": {},
   "outputs": [
    {
     "name": "stdout",
     "output_type": "stream",
     "text": [
      "1.43478611596\n"
     ]
    }
   ],
   "source": [
    "print (RMSE)"
   ]
  }
 ],
 "metadata": {
  "kernelspec": {
   "display_name": "Python 3",
   "language": "python",
   "name": "python3"
  },
  "language_info": {
   "codemirror_mode": {
    "name": "ipython",
    "version": 3
   },
   "file_extension": ".py",
   "mimetype": "text/x-python",
   "name": "python",
   "nbconvert_exporter": "python",
   "pygments_lexer": "ipython3",
   "version": "3.7.3"
  }
 },
 "nbformat": 4,
 "nbformat_minor": 2
}
